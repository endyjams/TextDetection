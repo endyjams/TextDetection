{
  "nbformat": 4,
  "nbformat_minor": 0,
  "metadata": {
    "colab": {
      "provenance": [],
      "mount_file_id": "1YBp6wICA-1c00QdThajLDrT5iWtoA1f5",
      "authorship_tag": "ABX9TyN+PpzIf7TUrVIsUrZ/RsV7",
      "include_colab_link": true
    },
    "kernelspec": {
      "name": "python3",
      "display_name": "Python 3"
    },
    "language_info": {
      "name": "python"
    }
  },
  "cells": [
    {
      "cell_type": "markdown",
      "metadata": {
        "id": "view-in-github",
        "colab_type": "text"
      },
      "source": [
        "<a href=\"https://colab.research.google.com/github/endyjams/TextDetection/blob/main/text_detection.ipynb\" target=\"_parent\"><img src=\"https://colab.research.google.com/assets/colab-badge.svg\" alt=\"Open In Colab\"/></a>"
      ]
    },
    {
      "cell_type": "code",
      "execution_count": null,
      "metadata": {
        "id": "mdYZTkIdyjcw"
      },
      "outputs": [],
      "source": [
        "import cv2\n",
        "from google.colab.patches import cv2_imshow\n",
        "from skimage import io\n",
        "import numpy as np\n",
        "import pytesseract\n",
        "import matplotlib.pyplot as plt\n",
        "from PIL import Image"
      ]
    },
    {
      "cell_type": "code",
      "source": [
        "# Leitura da imagem\n",
        "img = cv2.imread('/content/img0001.png')\n",
        "\n",
        "# Imagem no formato RGB\n",
        "cv2_imshow(img)\n",
        "\n",
        "# Tentativa de detecção do texto na imagem RGB:\n",
        "print(\"O texto detectado na imagem RGB foi: \", pytesseract.image_to_string(img))"
      ],
      "metadata": {
        "colab": {
          "base_uri": "https://localhost:8080/",
          "height": 134
        },
        "id": "4DcBEXj-ytby",
        "outputId": "93fb3574-5785-4eb1-cda2-d03f9b87eff6"
      },
      "execution_count": null,
      "outputs": [
        {
          "output_type": "display_data",
          "data": {
            "text/plain": [
              "<PIL.Image.Image image mode=RGB size=200x100>"
            ],
            "image/png": "[encoded data removed]"
          },
          "metadata": {}
        },
        {
          "output_type": "stream",
          "name": "stdout",
          "text": [
            "O texto detectado na imagem RGB foi:  \f\n"
          ]
        }
      ]
    },
    {
      "cell_type": "code",
      "source": [
        "# Conversão da imagem de RGB para cinza\n",
        "grey_img = cv2.cvtColor(img, cv2.COLOR_BGR2GRAY)\n",
        "\n",
        "# Imagem em tons de cinza:\n",
        "cv2_imshow(grey_img)\n",
        "\n",
        "# Tentativa de detecção do texto na imagem em tons de cinza:\n",
        "print(\"O texto detectado na imagem em tons de cinza foi: \", pytesseract.image_to_string(grey_img))\n",
        "\n",
        "# Aplicação do filtro gaussiano (borrando a imagem) para redução de ruídos\n",
        "# Se não houver a aplicação do filtro, pode ser que haja a adição de conteúdos que não estavam na imagem original\n",
        "blurring_img = cv2.GaussianBlur(grey_img, (3,3), 0)\n",
        "\n",
        "# Imagem borrada com aplicação do filtro gaussiano:\n",
        "cv2_imshow(blurring_img)\n",
        "\n",
        "# Tentativa de detecção do texto na imagem borrada:\n",
        "print(\"O texto detectado na imagem borrada foi: \", pytesseract.image_to_string(blurring_img))"
      ],
      "metadata": {
        "colab": {
          "base_uri": "https://localhost:8080/",
          "height": 286
        },
        "id": "QsbXCnhw4UD-",
        "outputId": "9e167f20-ef44-4374-c745-8181e769954e"
      },
      "execution_count": null,
      "outputs": [
        {
          "output_type": "display_data",
          "data": {
            "text/plain": [
              "<PIL.Image.Image image mode=L size=200x100>"
            ],
            "image/png": "[encoded data removed]"
          },
          "metadata": {}
        },
        {
          "output_type": "stream",
          "name": "stdout",
          "text": [
            "O texto detectado na imagem em tons de cinza foi:  \"6,95\n",
            "\f\n"
          ]
        },
        {
          "output_type": "display_data",
          "data": {
            "text/plain": [
              "<PIL.Image.Image image mode=L size=200x100>"
            ],
            "image/png": "[encoded data removed]"
          },
          "metadata": {}
        },
        {
          "output_type": "stream",
          "name": "stdout",
          "text": [
            "O texto detectado na imagem borrada foi:  6,95\n",
            "\f\n"
          ]
        }
      ]
    },
    {
      "cell_type": "code",
      "source": [
        "# Histograma da imagem em níveis de cinza (distribuição de frequência em níveis de cinza):\n",
        "grey_img_histogram = np.histogram(grey_img.ravel(), bins = 256, range = (0,255))\n",
        "plt.plot(grey_img_histogram[0], '-k')\n",
        "plt.show()\n",
        "\n",
        "# Histograma da imagem borrada (Filtro Gaussiano)\n",
        "blurring_img_histogram = np.histogram(blurring_img.ravel(), bins = 256, range = (0,255))\n",
        "plt.plot(blurring_img_histogram[0], '-k')\n",
        "plt.show()"
      ],
      "metadata": {
        "colab": {
          "base_uri": "https://localhost:8080/",
          "height": 513
        },
        "id": "EfSdJeXP5WsU",
        "outputId": "c3f04c93-3806-42aa-9585-375694bb48fb"
      },
      "execution_count": null,
      "outputs": [
        {
          "output_type": "display_data",
          "data": {
            "text/plain": [
              "<Figure size 432x288 with 1 Axes>"
            ],
            "image/png": "[encoded data removed]"
          },
          "metadata": {
            "needs_background": "light"
          }
        },
        {
          "output_type": "display_data",
          "data": {
            "text/plain": [
              "<Figure size 432x288 with 1 Axes>"
            ],
            "image/png": "[encoded data removed]"
          },
          "metadata": {
            "needs_background": "light"
          }
        }
      ]
    },
    {
      "cell_type": "code",
      "source": [
        "# Agora, basicamente o que será feito é:\n",
        "# Tornar a parte da imagem que contém o texto mais nítida e isolada\n",
        "# Isso fará com que a função do pytesseract detecte o texto com uma precisão cada vez maior\n",
        "\n",
        "# Aplicação do thresholding\n",
        "# parâmetros(img, threshold.min, threshold.max, threshold.type)\n",
        "binary_img = cv2.threshold(blurring_img, 155, 255, cv2.THRESH_BINARY_INV)[1]\n",
        "\n",
        "# Esta técnica é usada para contrastar o objeto alvo em relação ao ambiente que ele está inserido\n",
        "# Conversão da imagem em binária (seus níveis de cor irão varia entre preto e branco)"
      ],
      "metadata": {
        "id": "wW_nTFHc_kyd"
      },
      "execution_count": null,
      "outputs": []
    },
    {
      "cell_type": "code",
      "source": [
        "# Perceba que até agora não foi possível detectar texto como um todo\n",
        "# Isso ocorreu, pois a função do pytesseract ainda não consegue reconhecer\n",
        "# Devido a falta de constraste entre o objeto alvo e o ambiente\n",
        "# A função ainda não consegue reconhecer o contorno principal a ser detectado\n",
        "\n",
        "# Inverso da imagem binária\n",
        "inverted_img = 255 - binary_img\n",
        "\n",
        "\n",
        "print(\"Histograma da imagem binária:\")\n",
        "binary_img_histogram = np.histogram(binary_img.ravel(), bins = 256, range = (0,255))\n",
        "plt.plot(binary_img_histogram[0], '-k')\n",
        "plt.show()\n",
        "print(\"Histograma do inverso da imagem binária:\")\n",
        "inverted_img_histogram = np.histogram(inverted_img.ravel(), bins = 256, range = (0,255))\n",
        "plt.plot(inverted_img_histogram[0], '-k')\n",
        "plt.show()"
      ],
      "metadata": {
        "colab": {
          "base_uri": "https://localhost:8080/",
          "height": 548
        },
        "id": "4YtjaWDzJ-Mm",
        "outputId": "1afc34d8-de63-4dd1-e7f4-bcc62fe9dd77"
      },
      "execution_count": null,
      "outputs": [
        {
          "output_type": "stream",
          "name": "stdout",
          "text": [
            "Histograma da imagem binária:\n"
          ]
        },
        {
          "output_type": "display_data",
          "data": {
            "text/plain": [
              "<Figure size 432x288 with 1 Axes>"
            ],
            "image/png": "[encoded data removed]"
          },
          "metadata": {
            "needs_background": "light"
          }
        },
        {
          "output_type": "stream",
          "name": "stdout",
          "text": [
            "Histograma do inverso da imagem binária:\n"
          ]
        },
        {
          "output_type": "display_data",
          "data": {
            "text/plain": [
              "<Figure size 432x288 with 1 Axes>"
            ],
            "image/png": "[encoded data removed]"
          },
          "metadata": {
            "needs_background": "light"
          }
        }
      ]
    },
    {
      "cell_type": "code",
      "source": [
        "# Houve a obtenção de uma boa imagem, no entanto, ainda não é o suficiente para a detecção do texto\n",
        "# O que deve ser feito em seguida é:\n",
        "# Fazer o crop da imagem(recorte), para que seja ignorada a parte que não contém o texto\n",
        "# Veja a seguir os resultados tanto da imagem, quanto do seu inverso\n",
        "# Inverso da imagem (Mapeamento dos níveis atuais de preto e branco para seus opostos)\n",
        "\n",
        "# Imagem binária:\n",
        "print(\"Imagem Binária:\")\n",
        "cv2_imshow(binary_img)\n",
        "# Tentativa de detecção do texto na imagem binária:\n",
        "print(\"O texto detectado na imagem binária foi:\", pytesseract.image_to_string(binary_img))"
      ],
      "metadata": {
        "colab": {
          "base_uri": "https://localhost:8080/",
          "height": 152
        },
        "id": "jZiFd3BlEBiO",
        "outputId": "be7d59d1-878a-4414-b761-888760a53dfc"
      },
      "execution_count": null,
      "outputs": [
        {
          "output_type": "stream",
          "name": "stdout",
          "text": [
            "Imagem Binária:\n"
          ]
        },
        {
          "output_type": "display_data",
          "data": {
            "text/plain": [
              "<PIL.Image.Image image mode=L size=200x100>"
            ],
            "image/png": "[encoded data removed]"
          },
          "metadata": {}
        },
        {
          "output_type": "stream",
          "name": "stdout",
          "text": [
            "O texto detectado na imagem binária foi: \f\n"
          ]
        }
      ]
    },
    {
      "cell_type": "code",
      "source": [
        "#Inverso da Imagem binária:\n",
        "print(\"Inverso da imagem binária:\")\n",
        "cv2_imshow(inverted_img)\n",
        "# Tentativa de detecção do texto no inverso imagem binária:\n",
        "print(\"O texto detectado no inverso da imagem binária foi:\", pytesseract.image_to_string(inverted_img))"
      ],
      "metadata": {
        "colab": {
          "base_uri": "https://localhost:8080/",
          "height": 152
        },
        "id": "CGFUGa01UFsK",
        "outputId": "073e0755-8b05-4732-ffba-d13b1d86a358"
      },
      "execution_count": null,
      "outputs": [
        {
          "output_type": "stream",
          "name": "stdout",
          "text": [
            "Inverso da imagem binária:\n"
          ]
        },
        {
          "output_type": "display_data",
          "data": {
            "text/plain": [
              "<PIL.Image.Image image mode=L size=200x100>"
            ],
            "image/png": "[encoded data removed]"
          },
          "metadata": {}
        },
        {
          "output_type": "stream",
          "name": "stdout",
          "text": [
            "O texto detectado no inverso da imagem binária foi: \f\n"
          ]
        }
      ]
    },
    {
      "cell_type": "code",
      "source": [
        "# Realizando o crop em todas as fases da imagem\n",
        "inverted_img = inverted_img[17:80, 50:153]\n",
        "blurring_img = blurring_img[17:80, 50:153]\n",
        "binary_img = binary_img[17:80, 50:153]\n",
        "grey_img = grey_img[17:80, 50:153]"
      ],
      "metadata": {
        "id": "R-6rqgFiw4Np"
      },
      "execution_count": null,
      "outputs": []
    },
    {
      "cell_type": "code",
      "source": [
        "# Resultados Obtidos em todos os cenários:\n",
        "print(\"Resultado no inverso da imagem binária: \", pytesseract.image_to_string(inverted_img))\n",
        "print(\"Resultado na imagem em tons de cinza: \", pytesseract.image_to_string(grey_img))\n",
        "print(\"Resultado na imagem binária: \", pytesseract.image_to_string(binary_img))\n",
        "print(\"Resultado na imagem com o filtro de gauss: \", pytesseract.image_to_string(blurring_img))"
      ],
      "metadata": {
        "colab": {
          "base_uri": "https://localhost:8080/"
        },
        "id": "cGnwAofz7Esp",
        "outputId": "5a3d9dfd-3847-49af-d9b3-e99f0736fa40"
      },
      "execution_count": null,
      "outputs": [
        {
          "output_type": "stream",
          "name": "stdout",
          "text": [
            "Resultado no inverso da imagem binária:  \f\n",
            "Resultado na imagem em tons de cinza:  \"6,95\n",
            "\f\n",
            "Resultado na imagem binária:  \f\n",
            "Resultado na imagem com o filtro de gauss:  6,95\n",
            "\f\n"
          ]
        }
      ]
    }
  ]
}